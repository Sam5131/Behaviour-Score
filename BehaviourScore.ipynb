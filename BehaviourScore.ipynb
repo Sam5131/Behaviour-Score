{
 "cells": [
  {
   "cell_type": "code",
   "execution_count": 1,
   "metadata": {},
   "outputs": [
    {
     "name": "stdout",
     "output_type": "stream",
     "text": [
      "Dev data:\n",
      "   account_number  bad_flag  onus_attribute_1  transaction_attribute_1  \\\n",
      "0               1         0               NaN                      NaN   \n",
      "1               2         0          221000.0                      0.0   \n",
      "2               3         0           25000.0                      0.0   \n",
      "3               4         0           86000.0                      0.0   \n",
      "4               5         0          215000.0                      0.0   \n",
      "\n",
      "   transaction_attribute_2  transaction_attribute_3  transaction_attribute_4  \\\n",
      "0                      NaN                      NaN                      NaN   \n",
      "1                      0.0                      0.0                      0.0   \n",
      "2                      0.0                      0.0                      0.0   \n",
      "3                      0.0                      0.0                      0.0   \n",
      "4                      0.0                      0.0                      0.0   \n",
      "\n",
      "   transaction_attribute_5  transaction_attribute_6  transaction_attribute_7  \\\n",
      "0                      NaN                      NaN                      NaN   \n",
      "1                      0.0                      0.0                      0.0   \n",
      "2                      0.0                      0.0                      0.0   \n",
      "3                      0.0                      0.0                      0.0   \n",
      "4                      0.0                      0.0                      0.0   \n",
      "\n",
      "   ...  bureau_enquiry_47  bureau_enquiry_48  bureau_enquiry_49  \\\n",
      "0  ...                0.0                0.0                0.0   \n",
      "1  ...                0.0                0.0                2.0   \n",
      "2  ...                0.0                0.0                0.0   \n",
      "3  ...                0.0                0.0                0.0   \n",
      "4  ...                0.0                0.0                0.0   \n",
      "\n",
      "   bureau_enquiry_50  onus_attribute_43  onus_attribute_44  onus_attribute_45  \\\n",
      "0                1.0                NaN                NaN                NaN   \n",
      "1                3.0                0.0                0.0                0.0   \n",
      "2                8.0                NaN                NaN                NaN   \n",
      "3               30.0                NaN                NaN                NaN   \n",
      "4                1.0                NaN                NaN                NaN   \n",
      "\n",
      "   onus_attribute_46  onus_attribute_47  onus_attribute_48  \n",
      "0                NaN                NaN                NaN  \n",
      "1                0.0                0.0                0.0  \n",
      "2                NaN                NaN                NaN  \n",
      "3                NaN                NaN                NaN  \n",
      "4                NaN                NaN                NaN  \n",
      "\n",
      "[5 rows x 1216 columns]\n",
      "\n",
      " Development Data Info: \n",
      "<class 'pandas.core.frame.DataFrame'>\n",
      "RangeIndex: 96806 entries, 0 to 96805\n",
      "Columns: 1216 entries, account_number to onus_attribute_48\n",
      "dtypes: float64(1189), int64(27)\n",
      "memory usage: 898.1 MB\n",
      "\n",
      " dev data shape: (96806, 1216)\n",
      "\n",
      " validation data shape: (41792, 1215)\n"
     ]
    }
   ],
   "source": [
    "#Import Important Libraries\n",
    "import pandas as pd\n",
    "import numpy as np\n",
    "\n",
    "#Load the dataset\n",
    "dev_data = pd.read_csv('Dev_data_to_be_shared.csv')\n",
    "validation_data = pd.read_csv('validation_data_to_be_shared.csv')\n",
    "\n",
    "#Display the first few rows of the dev data\n",
    "print(\"Dev data:\")\n",
    "print(dev_data.head())\n",
    "\n",
    "#Display basic informatino about the dataset\n",
    "print(\"\\n Development Data Info: \")\n",
    "dev_data.info()\n",
    "\n",
    "#Check the size of dataset\n",
    "print(f\"\\n dev data shape: {dev_data.shape}\")\n",
    "print(f\"\\n validation data shape: {validation_data.shape}\")\n"
   ]
  },
  {
   "cell_type": "code",
   "execution_count": 2,
   "metadata": {},
   "outputs": [
    {
     "name": "stdout",
     "output_type": "stream",
     "text": [
      "\n",
      "Missing values in dev data: \n",
      "account_number                 0\n",
      "bad_flag                       0\n",
      "onus_attribute_1           25231\n",
      "transaction_attribute_1    25231\n",
      "transaction_attribute_2    25231\n",
      "                           ...  \n",
      "onus_attribute_44          85196\n",
      "onus_attribute_45          85196\n",
      "onus_attribute_46          85196\n",
      "onus_attribute_47          85196\n",
      "onus_attribute_48          85196\n",
      "Length: 1216, dtype: int64\n",
      "\n",
      " Percentage of Missing values: \n",
      "onus_attribute_1           26.063467\n",
      "transaction_attribute_1    26.063467\n",
      "transaction_attribute_2    26.063467\n",
      "transaction_attribute_3    26.063467\n",
      "transaction_attribute_4    26.063467\n",
      "                             ...    \n",
      "onus_attribute_44          88.006942\n",
      "onus_attribute_45          88.006942\n",
      "onus_attribute_46          88.006942\n",
      "onus_attribute_47          88.006942\n",
      "onus_attribute_48          88.006942\n",
      "Length: 1185, dtype: float64\n"
     ]
    }
   ],
   "source": [
    "#Check for missing values\n",
    "print(\"\\nMissing values in dev data: \")\n",
    "print(dev_data.isnull().sum())\n",
    "\n",
    "#Calculate the percentage of missing values\n",
    "missing_percentage = (dev_data.isnull().sum() / len(dev_data)) * 100\n",
    "print(\"\\n Percentage of Missing values: \")\n",
    "print(missing_percentage[missing_percentage > 0])"
   ]
  },
  {
   "cell_type": "code",
   "execution_count": 3,
   "metadata": {},
   "outputs": [
    {
     "name": "stdout",
     "output_type": "stream",
     "text": [
      "\n",
      "Distribution of bad_flag:\n",
      "bad_flag\n",
      "0    0.985827\n",
      "1    0.014173\n",
      "Name: proportion, dtype: float64\n"
     ]
    },
    {
     "data": {
      "image/png": "[encoded data removed]",
      "text/plain": [
       "<Figure size 640x480 with 1 Axes>"
      ]
     },
     "metadata": {},
     "output_type": "display_data"
    }
   ],
   "source": [
    "#Distribution of 'bad_flag'\n",
    "import matplotlib.pyplot as plt\n",
    "import seaborn as sns\n",
    "\n",
    "print(\"\\nDistribution of bad_flag:\")\n",
    "print(dev_data['bad_flag'].value_counts(normalize=True))\n",
    "\n",
    "sns.countplot(data=dev_data, x='bad_flag', hue='bad_flag', palette='viridis', legend=False)\n",
    "plt.title('Distribution of bad_flag')\n",
    "plt.show()"
   ]
  },
  {
   "cell_type": "code",
   "execution_count": 4,
   "metadata": {},
   "outputs": [
    {
     "name": "stdout",
     "output_type": "stream",
     "text": [
      "\n",
      " Summary Statistics:\n",
      "       account_number      bad_flag  onus_attribute_1  \\\n",
      "count    96806.000000  96806.000000      7.157500e+04   \n",
      "mean     48403.500000      0.014173      1.542391e+05   \n",
      "std      27945.629417      0.118203      1.729925e+05   \n",
      "min          1.000000      0.000000      2.500000e+04   \n",
      "25%      24202.250000      0.000000      5.900000e+04   \n",
      "50%      48403.500000      0.000000      1.000000e+05   \n",
      "75%      72604.750000      0.000000      1.810000e+05   \n",
      "max      96806.000000      1.000000      2.800000e+06   \n",
      "\n",
      "       transaction_attribute_1  transaction_attribute_2  \\\n",
      "count             71575.000000             71575.000000   \n",
      "mean                  9.570769                 0.002207   \n",
      "std                1513.967595                 0.119240   \n",
      "min                   0.000000                 0.000000   \n",
      "25%                   0.000000                 0.000000   \n",
      "50%                   0.000000                 0.000000   \n",
      "75%                   0.000000                 0.000000   \n",
      "max              398936.791000                25.000000   \n",
      "\n",
      "       transaction_attribute_3  transaction_attribute_4  \\\n",
      "count             71575.000000             71575.000000   \n",
      "mean                  4.092854                77.306435   \n",
      "std                 301.580599              3164.987013   \n",
      "min                   0.000000           -109800.476600   \n",
      "25%                   0.000000                 0.000000   \n",
      "50%                   0.000000                 0.000000   \n",
      "75%                   0.000000                 0.000000   \n",
      "max               55000.000000            358986.000000   \n",
      "\n",
      "       transaction_attribute_5  transaction_attribute_6  \\\n",
      "count             71575.000000             71575.000000   \n",
      "mean                  0.006315                67.043550   \n",
      "std                   0.129545              2516.330899   \n",
      "min                   0.000000             -3498.000000   \n",
      "25%                   0.000000                 0.000000   \n",
      "50%                   0.000000                 0.000000   \n",
      "75%                   0.000000                 0.000000   \n",
      "max                  12.000000            358986.000000   \n",
      "\n",
      "       transaction_attribute_7  ...  bureau_enquiry_47  bureau_enquiry_48  \\\n",
      "count             71575.000000  ...            94212.0       94212.000000   \n",
      "mean                  0.081034  ...                0.0           0.189657   \n",
      "std                  14.203615  ...                0.0           0.597298   \n",
      "min                   0.000000  ...                0.0           0.000000   \n",
      "25%                   0.000000  ...                0.0           0.000000   \n",
      "50%                   0.000000  ...                0.0           0.000000   \n",
      "75%                   0.000000  ...                0.0           0.000000   \n",
      "max                3150.000000  ...                0.0          18.000000   \n",
      "\n",
      "       bureau_enquiry_49  bureau_enquiry_50  onus_attribute_43  \\\n",
      "count       94212.000000       94212.000000       11610.000000   \n",
      "mean            0.044283           7.800673           0.588114   \n",
      "std             0.369451           8.655149           1.059613   \n",
      "min             0.000000           0.000000           0.000000   \n",
      "25%             0.000000           2.000000           0.000000   \n",
      "50%             0.000000           5.000000           0.000000   \n",
      "75%             0.000000          11.000000           1.000000   \n",
      "max            14.000000         102.000000          19.000000   \n",
      "\n",
      "       onus_attribute_44  onus_attribute_45  onus_attribute_46  \\\n",
      "count       11610.000000       11610.000000       11610.000000   \n",
      "mean            1.497158           0.545650           1.430491   \n",
      "std             1.702795           1.055865           1.728950   \n",
      "min             0.000000           0.000000           0.000000   \n",
      "25%             1.000000           0.000000           1.000000   \n",
      "50%             1.000000           0.000000           1.000000   \n",
      "75%             2.000000           1.000000           2.000000   \n",
      "max            38.000000          19.000000          38.000000   \n",
      "\n",
      "       onus_attribute_47  onus_attribute_48  \n",
      "count       11610.000000       11610.000000  \n",
      "mean            0.121447           0.119208  \n",
      "std             0.601256           0.599697  \n",
      "min             0.000000           0.000000  \n",
      "25%             0.000000           0.000000  \n",
      "50%             0.000000           0.000000  \n",
      "75%             0.000000           0.000000  \n",
      "max            15.000000          15.000000  \n",
      "\n",
      "[8 rows x 1216 columns]\n",
      "\n",
      "On-us Attributes: ['onus_attribute_1', 'onus_attribute_2', 'onus_attribute_3', 'onus_attribute_4', 'onus_attribute_5', 'onus_attribute_6', 'onus_attribute_7', 'onus_attribute_8', 'onus_attribute_9', 'onus_attribute_10', 'onus_attribute_11', 'onus_attribute_12', 'onus_attribute_13', 'onus_attribute_14', 'onus_attribute_15', 'onus_attribute_16', 'onus_attribute_17', 'onus_attribute_18', 'onus_attribute_19', 'onus_attribute_20', 'onus_attribute_21', 'onus_attribute_22', 'onus_attribute_23', 'onus_attribute_24', 'onus_attribute_25', 'onus_attribute_26', 'onus_attribute_27', 'onus_attribute_28', 'onus_attribute_29', 'onus_attribute_30', 'onus_attribute_31', 'onus_attribute_32', 'onus_attribute_33', 'onus_attribute_34', 'onus_attribute_35', 'onus_attribute_36', 'onus_attribute_37', 'onus_attribute_38', 'onus_attribute_39', 'onus_attribute_40', 'onus_attribute_41', 'onus_attribute_42', 'onus_attribute_43', 'onus_attribute_44', 'onus_attribute_45', 'onus_attribute_46', 'onus_attribute_47', 'onus_attribute_48']\n",
      "\n",
      "Transaction Attributes: ['transaction_attribute_1', 'transaction_attribute_2', 'transaction_attribute_3', 'transaction_attribute_4', 'transaction_attribute_5', 'transaction_attribute_6', 'transaction_attribute_7', 'transaction_attribute_8', 'transaction_attribute_9', 'transaction_attribute_10', 'transaction_attribute_11', 'transaction_attribute_12', 'transaction_attribute_13', 'transaction_attribute_14', 'transaction_attribute_15', 'transaction_attribute_16', 'transaction_attribute_17', 'transaction_attribute_18', 'transaction_attribute_19', 'transaction_attribute_20', 'transaction_attribute_21', 'transaction_attribute_22', 'transaction_attribute_23', 'transaction_attribute_24', 'transaction_attribute_25', 'transaction_attribute_26', 'transaction_attribute_27', 'transaction_attribute_28', 'transaction_attribute_29', 'transaction_attribute_30', 'transaction_attribute_31', 'transaction_attribute_32', 'transaction_attribute_33', 'transaction_attribute_34', 'transaction_attribute_35', 'transaction_attribute_36', 'transaction_attribute_37', 'transaction_attribute_38', 'transaction_attribute_39', 'transaction_attribute_40', 'transaction_attribute_41', 'transaction_attribute_42', 'transaction_attribute_43', 'transaction_attribute_44', 'transaction_attribute_45', 'transaction_attribute_46', 'transaction_attribute_47', 'transaction_attribute_48', 'transaction_attribute_49', 'transaction_attribute_50', 'transaction_attribute_51', 'transaction_attribute_52', 'transaction_attribute_53', 'transaction_attribute_54', 'transaction_attribute_55', 'transaction_attribute_56', 'transaction_attribute_57', 'transaction_attribute_58', 'transaction_attribute_59', 'transaction_attribute_60', 'transaction_attribute_61', 'transaction_attribute_62', 'transaction_attribute_63', 'transaction_attribute_64', 'transaction_attribute_65', 'transaction_attribute_66', 'transaction_attribute_67', 'transaction_attribute_68', 'transaction_attribute_69', 'transaction_attribute_70', 'transaction_attribute_71', 'transaction_attribute_72', 'transaction_attribute_73', 'transaction_attribute_74', 'transaction_attribute_75', 'transaction_attribute_76', 'transaction_attribute_77', 'transaction_attribute_78', 'transaction_attribute_79', 'transaction_attribute_80', 'transaction_attribute_81', 'transaction_attribute_82', 'transaction_attribute_83', 'transaction_attribute_84', 'transaction_attribute_85', 'transaction_attribute_86', 'transaction_attribute_87', 'transaction_attribute_88', 'transaction_attribute_89', 'transaction_attribute_90', 'transaction_attribute_91', 'transaction_attribute_92', 'transaction_attribute_93', 'transaction_attribute_94', 'transaction_attribute_95', 'transaction_attribute_96', 'transaction_attribute_97', 'transaction_attribute_98', 'transaction_attribute_99', 'transaction_attribute_100', 'transaction_attribute_101', 'transaction_attribute_102', 'transaction_attribute_103', 'transaction_attribute_104', 'transaction_attribute_105', 'transaction_attribute_106', 'transaction_attribute_107', 'transaction_attribute_108', 'transaction_attribute_109', 'transaction_attribute_110', 'transaction_attribute_111', 'transaction_attribute_112', 'transaction_attribute_113', 'transaction_attribute_114', 'transaction_attribute_115', 'transaction_attribute_116', 'transaction_attribute_117', 'transaction_attribute_118', 'transaction_attribute_119', 'transaction_attribute_120', 'transaction_attribute_121', 'transaction_attribute_122', 'transaction_attribute_123', 'transaction_attribute_124', 'transaction_attribute_125', 'transaction_attribute_126', 'transaction_attribute_127', 'transaction_attribute_128', 'transaction_attribute_129', 'transaction_attribute_130', 'transaction_attribute_131', 'transaction_attribute_132', 'transaction_attribute_133', 'transaction_attribute_134', 'transaction_attribute_135', 'transaction_attribute_136', 'transaction_attribute_137', 'transaction_attribute_138', 'transaction_attribute_139', 'transaction_attribute_140', 'transaction_attribute_141', 'transaction_attribute_142', 'transaction_attribute_143', 'transaction_attribute_144', 'transaction_attribute_145', 'transaction_attribute_146', 'transaction_attribute_147', 'transaction_attribute_148', 'transaction_attribute_149', 'transaction_attribute_150', 'transaction_attribute_151', 'transaction_attribute_152', 'transaction_attribute_153', 'transaction_attribute_154', 'transaction_attribute_155', 'transaction_attribute_156', 'transaction_attribute_157', 'transaction_attribute_158', 'transaction_attribute_159', 'transaction_attribute_160', 'transaction_attribute_161', 'transaction_attribute_162', 'transaction_attribute_163', 'transaction_attribute_164', 'transaction_attribute_165', 'transaction_attribute_166', 'transaction_attribute_167', 'transaction_attribute_168', 'transaction_attribute_169', 'transaction_attribute_170', 'transaction_attribute_171', 'transaction_attribute_172', 'transaction_attribute_173', 'transaction_attribute_174', 'transaction_attribute_175', 'transaction_attribute_176', 'transaction_attribute_177', 'transaction_attribute_178', 'transaction_attribute_179', 'transaction_attribute_180', 'transaction_attribute_181', 'transaction_attribute_182', 'transaction_attribute_183', 'transaction_attribute_184', 'transaction_attribute_185', 'transaction_attribute_186', 'transaction_attribute_187', 'transaction_attribute_188', 'transaction_attribute_189', 'transaction_attribute_190', 'transaction_attribute_191', 'transaction_attribute_192', 'transaction_attribute_193', 'transaction_attribute_194', 'transaction_attribute_195', 'transaction_attribute_196', 'transaction_attribute_197', 'transaction_attribute_198', 'transaction_attribute_199', 'transaction_attribute_200', 'transaction_attribute_201', 'transaction_attribute_202', 'transaction_attribute_203', 'transaction_attribute_204', 'transaction_attribute_205', 'transaction_attribute_206', 'transaction_attribute_207', 'transaction_attribute_208', 'transaction_attribute_209', 'transaction_attribute_210', 'transaction_attribute_211', 'transaction_attribute_212', 'transaction_attribute_213', 'transaction_attribute_214', 'transaction_attribute_215', 'transaction_attribute_216', 'transaction_attribute_217', 'transaction_attribute_218', 'transaction_attribute_219', 'transaction_attribute_220', 'transaction_attribute_221', 'transaction_attribute_222', 'transaction_attribute_223', 'transaction_attribute_224', 'transaction_attribute_225', 'transaction_attribute_226', 'transaction_attribute_227', 'transaction_attribute_228', 'transaction_attribute_229', 'transaction_attribute_230', 'transaction_attribute_231', 'transaction_attribute_232', 'transaction_attribute_233', 'transaction_attribute_234', 'transaction_attribute_235', 'transaction_attribute_236', 'transaction_attribute_237', 'transaction_attribute_238', 'transaction_attribute_239', 'transaction_attribute_240', 'transaction_attribute_241', 'transaction_attribute_242', 'transaction_attribute_243', 'transaction_attribute_244', 'transaction_attribute_245', 'transaction_attribute_246', 'transaction_attribute_247', 'transaction_attribute_248', 'transaction_attribute_249', 'transaction_attribute_250', 'transaction_attribute_251', 'transaction_attribute_252', 'transaction_attribute_253', 'transaction_attribute_254', 'transaction_attribute_255', 'transaction_attribute_256', 'transaction_attribute_257', 'transaction_attribute_258', 'transaction_attribute_259', 'transaction_attribute_260', 'transaction_attribute_261', 'transaction_attribute_262', 'transaction_attribute_263', 'transaction_attribute_264', 'transaction_attribute_265', 'transaction_attribute_266', 'transaction_attribute_267', 'transaction_attribute_268', 'transaction_attribute_269', 'transaction_attribute_270', 'transaction_attribute_271', 'transaction_attribute_272', 'transaction_attribute_273', 'transaction_attribute_274', 'transaction_attribute_275', 'transaction_attribute_276', 'transaction_attribute_277', 'transaction_attribute_278', 'transaction_attribute_279', 'transaction_attribute_280', 'transaction_attribute_281', 'transaction_attribute_282', 'transaction_attribute_283', 'transaction_attribute_284', 'transaction_attribute_285', 'transaction_attribute_286', 'transaction_attribute_287', 'transaction_attribute_288', 'transaction_attribute_289', 'transaction_attribute_290', 'transaction_attribute_291', 'transaction_attribute_292', 'transaction_attribute_293', 'transaction_attribute_294', 'transaction_attribute_295', 'transaction_attribute_296', 'transaction_attribute_297', 'transaction_attribute_298', 'transaction_attribute_299', 'transaction_attribute_300', 'transaction_attribute_301', 'transaction_attribute_302', 'transaction_attribute_303', 'transaction_attribute_304', 'transaction_attribute_305', 'transaction_attribute_306', 'transaction_attribute_307', 'transaction_attribute_308', 'transaction_attribute_309', 'transaction_attribute_310', 'transaction_attribute_311', 'transaction_attribute_312', 'transaction_attribute_313', 'transaction_attribute_314', 'transaction_attribute_315', 'transaction_attribute_316', 'transaction_attribute_317', 'transaction_attribute_318', 'transaction_attribute_319', 'transaction_attribute_320', 'transaction_attribute_321', 'transaction_attribute_322', 'transaction_attribute_323', 'transaction_attribute_324', 'transaction_attribute_325', 'transaction_attribute_326', 'transaction_attribute_327', 'transaction_attribute_328', 'transaction_attribute_329', 'transaction_attribute_330', 'transaction_attribute_331', 'transaction_attribute_332', 'transaction_attribute_333', 'transaction_attribute_334', 'transaction_attribute_335', 'transaction_attribute_336', 'transaction_attribute_337', 'transaction_attribute_338', 'transaction_attribute_339', 'transaction_attribute_340', 'transaction_attribute_341', 'transaction_attribute_342', 'transaction_attribute_343', 'transaction_attribute_344', 'transaction_attribute_345', 'transaction_attribute_346', 'transaction_attribute_347', 'transaction_attribute_348', 'transaction_attribute_349', 'transaction_attribute_350', 'transaction_attribute_351', 'transaction_attribute_352', 'transaction_attribute_353', 'transaction_attribute_354', 'transaction_attribute_355', 'transaction_attribute_356', 'transaction_attribute_357', 'transaction_attribute_358', 'transaction_attribute_359', 'transaction_attribute_360', 'transaction_attribute_361', 'transaction_attribute_362', 'transaction_attribute_363', 'transaction_attribute_364', 'transaction_attribute_365', 'transaction_attribute_366', 'transaction_attribute_367', 'transaction_attribute_368', 'transaction_attribute_369', 'transaction_attribute_370', 'transaction_attribute_371', 'transaction_attribute_372', 'transaction_attribute_373', 'transaction_attribute_374', 'transaction_attribute_375', 'transaction_attribute_376', 'transaction_attribute_377', 'transaction_attribute_378', 'transaction_attribute_379', 'transaction_attribute_380', 'transaction_attribute_381', 'transaction_attribute_382', 'transaction_attribute_383', 'transaction_attribute_384', 'transaction_attribute_385', 'transaction_attribute_386', 'transaction_attribute_387', 'transaction_attribute_388', 'transaction_attribute_389', 'transaction_attribute_390', 'transaction_attribute_391', 'transaction_attribute_392', 'transaction_attribute_393', 'transaction_attribute_394', 'transaction_attribute_395', 'transaction_attribute_396', 'transaction_attribute_397', 'transaction_attribute_398', 'transaction_attribute_399', 'transaction_attribute_400', 'transaction_attribute_401', 'transaction_attribute_402', 'transaction_attribute_403', 'transaction_attribute_404', 'transaction_attribute_405', 'transaction_attribute_406', 'transaction_attribute_407', 'transaction_attribute_408', 'transaction_attribute_409', 'transaction_attribute_410', 'transaction_attribute_411', 'transaction_attribute_412', 'transaction_attribute_413', 'transaction_attribute_414', 'transaction_attribute_415', 'transaction_attribute_416', 'transaction_attribute_417', 'transaction_attribute_418', 'transaction_attribute_419', 'transaction_attribute_420', 'transaction_attribute_421', 'transaction_attribute_422', 'transaction_attribute_423', 'transaction_attribute_424', 'transaction_attribute_425', 'transaction_attribute_426', 'transaction_attribute_427', 'transaction_attribute_428', 'transaction_attribute_429', 'transaction_attribute_430', 'transaction_attribute_431', 'transaction_attribute_432', 'transaction_attribute_433', 'transaction_attribute_434', 'transaction_attribute_435', 'transaction_attribute_436', 'transaction_attribute_437', 'transaction_attribute_438', 'transaction_attribute_439', 'transaction_attribute_440', 'transaction_attribute_441', 'transaction_attribute_442', 'transaction_attribute_443', 'transaction_attribute_444', 'transaction_attribute_445', 'transaction_attribute_446', 'transaction_attribute_447', 'transaction_attribute_448', 'transaction_attribute_449', 'transaction_attribute_450', 'transaction_attribute_451', 'transaction_attribute_452', 'transaction_attribute_453', 'transaction_attribute_454', 'transaction_attribute_455', 'transaction_attribute_456', 'transaction_attribute_457', 'transaction_attribute_458', 'transaction_attribute_459', 'transaction_attribute_460', 'transaction_attribute_461', 'transaction_attribute_462', 'transaction_attribute_463', 'transaction_attribute_464', 'transaction_attribute_465', 'transaction_attribute_466', 'transaction_attribute_467', 'transaction_attribute_468', 'transaction_attribute_469', 'transaction_attribute_470', 'transaction_attribute_471', 'transaction_attribute_472', 'transaction_attribute_473', 'transaction_attribute_474', 'transaction_attribute_475', 'transaction_attribute_476', 'transaction_attribute_477', 'transaction_attribute_478', 'transaction_attribute_479', 'transaction_attribute_480', 'transaction_attribute_481', 'transaction_attribute_482', 'transaction_attribute_483', 'transaction_attribute_484', 'transaction_attribute_485', 'transaction_attribute_486', 'transaction_attribute_487', 'transaction_attribute_488', 'transaction_attribute_489', 'transaction_attribute_490', 'transaction_attribute_491', 'transaction_attribute_492', 'transaction_attribute_493', 'transaction_attribute_494', 'transaction_attribute_495', 'transaction_attribute_496', 'transaction_attribute_497', 'transaction_attribute_498', 'transaction_attribute_499', 'transaction_attribute_500', 'transaction_attribute_501', 'transaction_attribute_502', 'transaction_attribute_503', 'transaction_attribute_504', 'transaction_attribute_505', 'transaction_attribute_506', 'transaction_attribute_507', 'transaction_attribute_508', 'transaction_attribute_509', 'transaction_attribute_510', 'transaction_attribute_511', 'transaction_attribute_512', 'transaction_attribute_513', 'transaction_attribute_514', 'transaction_attribute_515', 'transaction_attribute_516', 'transaction_attribute_517', 'transaction_attribute_518', 'transaction_attribute_519', 'transaction_attribute_520', 'transaction_attribute_521', 'transaction_attribute_522', 'transaction_attribute_523', 'transaction_attribute_524', 'transaction_attribute_525', 'transaction_attribute_526', 'transaction_attribute_527', 'transaction_attribute_528', 'transaction_attribute_529', 'transaction_attribute_530', 'transaction_attribute_531', 'transaction_attribute_532', 'transaction_attribute_533', 'transaction_attribute_534', 'transaction_attribute_535', 'transaction_attribute_536', 'transaction_attribute_537', 'transaction_attribute_538', 'transaction_attribute_539', 'transaction_attribute_540', 'transaction_attribute_541', 'transaction_attribute_542', 'transaction_attribute_543', 'transaction_attribute_544', 'transaction_attribute_545', 'transaction_attribute_546', 'transaction_attribute_547', 'transaction_attribute_548', 'transaction_attribute_549', 'transaction_attribute_550', 'transaction_attribute_551', 'transaction_attribute_552', 'transaction_attribute_553', 'transaction_attribute_554', 'transaction_attribute_555', 'transaction_attribute_556', 'transaction_attribute_557', 'transaction_attribute_558', 'transaction_attribute_559', 'transaction_attribute_560', 'transaction_attribute_561', 'transaction_attribute_562', 'transaction_attribute_563', 'transaction_attribute_564', 'transaction_attribute_565', 'transaction_attribute_566', 'transaction_attribute_567', 'transaction_attribute_568', 'transaction_attribute_569', 'transaction_attribute_570', 'transaction_attribute_571', 'transaction_attribute_572', 'transaction_attribute_573', 'transaction_attribute_574', 'transaction_attribute_575', 'transaction_attribute_576', 'transaction_attribute_577', 'transaction_attribute_578', 'transaction_attribute_579', 'transaction_attribute_580', 'transaction_attribute_581', 'transaction_attribute_582', 'transaction_attribute_583', 'transaction_attribute_584', 'transaction_attribute_585', 'transaction_attribute_586', 'transaction_attribute_587', 'transaction_attribute_588', 'transaction_attribute_589', 'transaction_attribute_590', 'transaction_attribute_591', 'transaction_attribute_592', 'transaction_attribute_593', 'transaction_attribute_594', 'transaction_attribute_595', 'transaction_attribute_596', 'transaction_attribute_597', 'transaction_attribute_598', 'transaction_attribute_599', 'transaction_attribute_600', 'transaction_attribute_601', 'transaction_attribute_602', 'transaction_attribute_603', 'transaction_attribute_604', 'transaction_attribute_605', 'transaction_attribute_606', 'transaction_attribute_607', 'transaction_attribute_608', 'transaction_attribute_609', 'transaction_attribute_610', 'transaction_attribute_611', 'transaction_attribute_612', 'transaction_attribute_613', 'transaction_attribute_614', 'transaction_attribute_615', 'transaction_attribute_616', 'transaction_attribute_617', 'transaction_attribute_618', 'transaction_attribute_619', 'transaction_attribute_620', 'transaction_attribute_621', 'transaction_attribute_622', 'transaction_attribute_623', 'transaction_attribute_624', 'transaction_attribute_625', 'transaction_attribute_626', 'transaction_attribute_627', 'transaction_attribute_628', 'transaction_attribute_629', 'transaction_attribute_630', 'transaction_attribute_631', 'transaction_attribute_632', 'transaction_attribute_633', 'transaction_attribute_634', 'transaction_attribute_635', 'transaction_attribute_636', 'transaction_attribute_637', 'transaction_attribute_638', 'transaction_attribute_639', 'transaction_attribute_640', 'transaction_attribute_641', 'transaction_attribute_642', 'transaction_attribute_643', 'transaction_attribute_644', 'transaction_attribute_645', 'transaction_attribute_646', 'transaction_attribute_647', 'transaction_attribute_648', 'transaction_attribute_649', 'transaction_attribute_650', 'transaction_attribute_651', 'transaction_attribute_652', 'transaction_attribute_653', 'transaction_attribute_654', 'transaction_attribute_655', 'transaction_attribute_656', 'transaction_attribute_657', 'transaction_attribute_658', 'transaction_attribute_659', 'transaction_attribute_660', 'transaction_attribute_661', 'transaction_attribute_662', 'transaction_attribute_663', 'transaction_attribute_664']\n",
      "\n",
      "Bureau Attributes: ['bureau_1', 'bureau_2', 'bureau_3', 'bureau_4', 'bureau_5', 'bureau_6', 'bureau_7', 'bureau_8', 'bureau_9', 'bureau_10', 'bureau_11', 'bureau_12', 'bureau_13', 'bureau_14', 'bureau_15', 'bureau_16', 'bureau_17', 'bureau_18', 'bureau_19', 'bureau_20', 'bureau_21', 'bureau_22', 'bureau_23', 'bureau_24', 'bureau_25', 'bureau_26', 'bureau_27', 'bureau_28', 'bureau_29', 'bureau_30', 'bureau_31', 'bureau_32', 'bureau_33', 'bureau_34', 'bureau_35', 'bureau_36', 'bureau_37', 'bureau_38', 'bureau_39', 'bureau_40', 'bureau_41', 'bureau_42', 'bureau_43', 'bureau_44', 'bureau_45', 'bureau_46', 'bureau_47', 'bureau_48', 'bureau_49', 'bureau_50', 'bureau_51', 'bureau_52', 'bureau_53', 'bureau_54', 'bureau_55', 'bureau_56', 'bureau_57', 'bureau_58', 'bureau_59', 'bureau_60', 'bureau_61', 'bureau_62', 'bureau_63', 'bureau_64', 'bureau_65', 'bureau_66', 'bureau_67', 'bureau_68', 'bureau_69', 'bureau_70', 'bureau_71', 'bureau_72', 'bureau_73', 'bureau_74', 'bureau_75', 'bureau_76', 'bureau_77', 'bureau_78', 'bureau_79', 'bureau_80', 'bureau_81', 'bureau_82', 'bureau_83', 'bureau_84', 'bureau_85', 'bureau_86', 'bureau_87', 'bureau_88', 'bureau_89', 'bureau_90', 'bureau_91', 'bureau_92', 'bureau_93', 'bureau_94', 'bureau_95', 'bureau_96', 'bureau_97', 'bureau_98', 'bureau_99', 'bureau_100', 'bureau_101', 'bureau_102', 'bureau_103', 'bureau_104', 'bureau_105', 'bureau_106', 'bureau_107', 'bureau_108', 'bureau_109', 'bureau_110', 'bureau_111', 'bureau_112', 'bureau_113', 'bureau_114', 'bureau_115', 'bureau_116', 'bureau_117', 'bureau_118', 'bureau_119', 'bureau_120', 'bureau_121', 'bureau_122', 'bureau_123', 'bureau_124', 'bureau_125', 'bureau_126', 'bureau_127', 'bureau_128', 'bureau_129', 'bureau_130', 'bureau_131', 'bureau_132', 'bureau_133', 'bureau_134', 'bureau_135', 'bureau_136', 'bureau_137', 'bureau_138', 'bureau_139', 'bureau_140', 'bureau_141', 'bureau_142', 'bureau_143', 'bureau_144', 'bureau_145', 'bureau_146', 'bureau_147', 'bureau_148', 'bureau_149', 'bureau_150', 'bureau_151', 'bureau_152', 'bureau_153', 'bureau_154', 'bureau_155', 'bureau_156', 'bureau_157', 'bureau_158', 'bureau_159', 'bureau_160', 'bureau_161', 'bureau_162', 'bureau_163', 'bureau_164', 'bureau_165', 'bureau_166', 'bureau_167', 'bureau_168', 'bureau_169', 'bureau_170', 'bureau_171', 'bureau_172', 'bureau_173', 'bureau_174', 'bureau_175', 'bureau_176', 'bureau_177', 'bureau_178', 'bureau_179', 'bureau_180', 'bureau_181', 'bureau_182', 'bureau_183', 'bureau_184', 'bureau_185', 'bureau_186', 'bureau_187', 'bureau_188', 'bureau_189', 'bureau_190', 'bureau_191', 'bureau_192', 'bureau_193', 'bureau_194', 'bureau_195', 'bureau_196', 'bureau_197', 'bureau_198', 'bureau_199', 'bureau_200', 'bureau_201', 'bureau_202', 'bureau_203', 'bureau_204', 'bureau_205', 'bureau_206', 'bureau_207', 'bureau_208', 'bureau_209', 'bureau_210', 'bureau_211', 'bureau_212', 'bureau_213', 'bureau_214', 'bureau_215', 'bureau_216', 'bureau_217', 'bureau_218', 'bureau_219', 'bureau_220', 'bureau_221', 'bureau_222', 'bureau_223', 'bureau_224', 'bureau_225', 'bureau_226', 'bureau_227', 'bureau_228', 'bureau_229', 'bureau_230', 'bureau_231', 'bureau_232', 'bureau_233', 'bureau_234', 'bureau_235', 'bureau_236', 'bureau_237', 'bureau_238', 'bureau_239', 'bureau_240', 'bureau_241', 'bureau_242', 'bureau_243', 'bureau_244', 'bureau_245', 'bureau_246', 'bureau_247', 'bureau_248', 'bureau_249', 'bureau_250', 'bureau_251', 'bureau_252', 'bureau_253', 'bureau_254', 'bureau_255', 'bureau_256', 'bureau_257', 'bureau_258', 'bureau_259', 'bureau_260', 'bureau_261', 'bureau_262', 'bureau_263', 'bureau_264', 'bureau_265', 'bureau_266', 'bureau_267', 'bureau_268', 'bureau_269', 'bureau_270', 'bureau_271', 'bureau_272', 'bureau_273', 'bureau_274', 'bureau_275', 'bureau_276', 'bureau_277', 'bureau_278', 'bureau_279', 'bureau_280', 'bureau_281', 'bureau_282', 'bureau_283', 'bureau_284', 'bureau_285', 'bureau_286', 'bureau_287', 'bureau_288', 'bureau_289', 'bureau_290', 'bureau_291', 'bureau_292', 'bureau_293', 'bureau_294', 'bureau_295', 'bureau_296', 'bureau_297', 'bureau_298', 'bureau_299', 'bureau_300', 'bureau_301', 'bureau_302', 'bureau_303', 'bureau_304', 'bureau_305', 'bureau_306', 'bureau_307', 'bureau_308', 'bureau_309', 'bureau_310', 'bureau_311', 'bureau_312', 'bureau_313', 'bureau_314', 'bureau_315', 'bureau_316', 'bureau_317', 'bureau_318', 'bureau_319', 'bureau_320', 'bureau_321', 'bureau_322', 'bureau_323', 'bureau_324', 'bureau_325', 'bureau_326', 'bureau_327', 'bureau_328', 'bureau_329', 'bureau_330', 'bureau_331', 'bureau_332', 'bureau_333', 'bureau_334', 'bureau_335', 'bureau_336', 'bureau_337', 'bureau_338', 'bureau_339', 'bureau_340', 'bureau_341', 'bureau_342', 'bureau_343', 'bureau_344', 'bureau_345', 'bureau_346', 'bureau_347', 'bureau_348', 'bureau_349', 'bureau_350', 'bureau_351', 'bureau_352', 'bureau_353', 'bureau_354', 'bureau_355', 'bureau_356', 'bureau_357', 'bureau_358', 'bureau_359', 'bureau_360', 'bureau_361', 'bureau_362', 'bureau_363', 'bureau_364', 'bureau_365', 'bureau_366', 'bureau_367', 'bureau_368', 'bureau_369', 'bureau_370', 'bureau_371', 'bureau_372', 'bureau_373', 'bureau_374', 'bureau_375', 'bureau_376', 'bureau_377', 'bureau_378', 'bureau_379', 'bureau_380', 'bureau_381', 'bureau_382', 'bureau_383', 'bureau_384', 'bureau_385', 'bureau_386', 'bureau_387', 'bureau_388', 'bureau_389', 'bureau_390', 'bureau_391', 'bureau_392', 'bureau_393', 'bureau_394', 'bureau_395', 'bureau_396', 'bureau_397', 'bureau_398', 'bureau_399', 'bureau_400', 'bureau_401', 'bureau_402', 'bureau_403', 'bureau_404', 'bureau_405', 'bureau_406', 'bureau_407', 'bureau_408', 'bureau_409', 'bureau_410', 'bureau_411', 'bureau_412', 'bureau_413', 'bureau_414', 'bureau_415', 'bureau_416', 'bureau_417', 'bureau_418', 'bureau_419', 'bureau_420', 'bureau_421', 'bureau_422', 'bureau_423', 'bureau_424', 'bureau_425', 'bureau_426', 'bureau_427', 'bureau_428', 'bureau_429', 'bureau_430', 'bureau_431', 'bureau_432', 'bureau_433', 'bureau_434', 'bureau_435', 'bureau_436', 'bureau_437', 'bureau_438', 'bureau_439', 'bureau_440', 'bureau_441', 'bureau_442', 'bureau_443', 'bureau_444', 'bureau_445', 'bureau_446', 'bureau_447', 'bureau_448', 'bureau_449', 'bureau_450', 'bureau_451', 'bureau_452', 'bureau_enquiry_1', 'bureau_enquiry_2', 'bureau_enquiry_3', 'bureau_enquiry_4', 'bureau_enquiry_5', 'bureau_enquiry_6', 'bureau_enquiry_7', 'bureau_enquiry_8', 'bureau_enquiry_9', 'bureau_enquiry_10', 'bureau_enquiry_11', 'bureau_enquiry_12', 'bureau_enquiry_13', 'bureau_enquiry_14', 'bureau_enquiry_15', 'bureau_enquiry_16', 'bureau_enquiry_17', 'bureau_enquiry_18', 'bureau_enquiry_19', 'bureau_enquiry_20', 'bureau_enquiry_21', 'bureau_enquiry_22', 'bureau_enquiry_23', 'bureau_enquiry_24', 'bureau_enquiry_25', 'bureau_enquiry_26', 'bureau_enquiry_27', 'bureau_enquiry_28', 'bureau_enquiry_29', 'bureau_enquiry_30', 'bureau_enquiry_31', 'bureau_enquiry_32', 'bureau_enquiry_33', 'bureau_enquiry_34', 'bureau_enquiry_35', 'bureau_enquiry_36', 'bureau_enquiry_37', 'bureau_enquiry_38', 'bureau_enquiry_39', 'bureau_enquiry_40', 'bureau_enquiry_41', 'bureau_enquiry_42', 'bureau_enquiry_43', 'bureau_enquiry_44', 'bureau_enquiry_45', 'bureau_enquiry_46', 'bureau_enquiry_47', 'bureau_enquiry_48', 'bureau_enquiry_49', 'bureau_enquiry_50']\n",
      "\n",
      "Bureau Enquiry Attributes: ['bureau_enquiry_1', 'bureau_enquiry_2', 'bureau_enquiry_3', 'bureau_enquiry_4', 'bureau_enquiry_5', 'bureau_enquiry_6', 'bureau_enquiry_7', 'bureau_enquiry_8', 'bureau_enquiry_9', 'bureau_enquiry_10', 'bureau_enquiry_11', 'bureau_enquiry_12', 'bureau_enquiry_13', 'bureau_enquiry_14', 'bureau_enquiry_15', 'bureau_enquiry_16', 'bureau_enquiry_17', 'bureau_enquiry_18', 'bureau_enquiry_19', 'bureau_enquiry_20', 'bureau_enquiry_21', 'bureau_enquiry_22', 'bureau_enquiry_23', 'bureau_enquiry_24', 'bureau_enquiry_25', 'bureau_enquiry_26', 'bureau_enquiry_27', 'bureau_enquiry_28', 'bureau_enquiry_29', 'bureau_enquiry_30', 'bureau_enquiry_31', 'bureau_enquiry_32', 'bureau_enquiry_33', 'bureau_enquiry_34', 'bureau_enquiry_35', 'bureau_enquiry_36', 'bureau_enquiry_37', 'bureau_enquiry_38', 'bureau_enquiry_39', 'bureau_enquiry_40', 'bureau_enquiry_41', 'bureau_enquiry_42', 'bureau_enquiry_43', 'bureau_enquiry_44', 'bureau_enquiry_45', 'bureau_enquiry_46', 'bureau_enquiry_47', 'bureau_enquiry_48', 'bureau_enquiry_49', 'bureau_enquiry_50']\n"
     ]
    },
    {
     "data": {
      "image/png": "[encoded data removed]",
      "text/plain": [
       "<Figure size 640x480 with 1 Axes>"
      ]
     },
     "metadata": {},
     "output_type": "display_data"
    }
   ],
   "source": [
    "#Summary stats of all features\n",
    "print(\"\\n Summary Statistics:\")\n",
    "print(dev_data.describe())\n",
    "\n",
    "#Check a sample of each feature group\n",
    "onus_features = [col for col in dev_data.columns if col.startswith('onus')]\n",
    "transaction_features = [col for col in dev_data.columns if col.startswith('transaction')]\n",
    "bureau_features = [col for col in dev_data.columns if col.startswith('bureau')]\n",
    "bureau_enquiry_features = [col for col in dev_data.columns if col.startswith('bureau_enquiry')]\n",
    "\n",
    "print(\"\\nOn-us Attributes:\", onus_features)\n",
    "print(\"\\nTransaction Attributes:\", transaction_features)\n",
    "print(\"\\nBureau Attributes:\", bureau_features)\n",
    "print(\"\\nBureau Enquiry Attributes:\", bureau_enquiry_features)\n",
    "\n",
    "# Example: Distribution of credit limit (onus feature)\n",
    "sns.histplot(dev_data[onus_features[0]], bins=30, kde=True)\n",
    "plt.title(f\"Distribution of {onus_features[0]}\")\n",
    "plt.show()"
   ]
  },
  {
   "cell_type": "code",
   "execution_count": 5,
   "metadata": {},
   "outputs": [
    {
     "name": "stdout",
     "output_type": "stream",
     "text": [
      "\n",
      "Missing Values After Cleaning:\n",
      "0\n"
     ]
    }
   ],
   "source": [
    "# Drop columns with >30% missing\n",
    "threshold = 30\n",
    "columns_to_drop = missing_percentage[missing_percentage > threshold].index\n",
    "dev_data_cleaned = dev_data.drop(columns=columns_to_drop)\n",
    "\n",
    "# Fill missing values in numeric columns with median\n",
    "numeric_columns = dev_data_cleaned.select_dtypes(include=[np.number]).columns\n",
    "dev_data_cleaned[numeric_columns] = dev_data_cleaned[numeric_columns].fillna(dev_data_cleaned[numeric_columns].median())\n",
    "\n",
    "# Fill missing values in categorical columns with mode or placeholder for all-NaN columns\n",
    "categorical_columns = dev_data_cleaned.select_dtypes(include=['object']).columns\n",
    "for col in categorical_columns:\n",
    "    if dev_data_cleaned[col].isnull().all():\n",
    "        dev_data_cleaned[col] = \"Unknown\"  # Handle all-NaN categorical columns\n",
    "    else:\n",
    "        dev_data_cleaned[col] = dev_data_cleaned[col].fillna(dev_data_cleaned[col].mode().iloc[0])\n",
    "\n",
    "print(\"\\nMissing Values After Cleaning:\")\n",
    "print(dev_data_cleaned.isnull().sum().sum())  # Total missing values"
   ]
  },
  {
   "cell_type": "code",
   "execution_count": 6,
   "metadata": {},
   "outputs": [
    {
     "name": "stdout",
     "output_type": "stream",
     "text": [
      "\n",
      "New Feature Added: transaction_to_credit_ratio\n"
     ]
    }
   ],
   "source": [
    "# Example of a new feature: transaction-to-credit ratio\n",
    "if 'onus_attributes_credit_limit' in dev_data_cleaned.columns and 'transaction_attribute_total_transactions' in dev_data_cleaned.columns:\n",
    "    dev_data_cleaned['transaction_to_credit_ratio'] = dev_data_cleaned['transaction_attribute_total_transactions'] / dev_data_cleaned['onus_attributes_credit_limit']\n",
    "\n",
    "print(\"\\nNew Feature Added: transaction_to_credit_ratio\")"
   ]
  },
  {
   "cell_type": "code",
   "execution_count": 7,
   "metadata": {},
   "outputs": [
    {
     "name": "stdout",
     "output_type": "stream",
     "text": [
      "\n",
      "Sample of Normalized Data:\n",
      "   account_number  bad_flag  onus_attribute_1  transaction_attribute_1  \\\n",
      "0        0.000000       0.0          0.027027                      0.0   \n",
      "1        0.000010       0.0          0.070631                      0.0   \n",
      "2        0.000021       0.0          0.000000                      0.0   \n",
      "3        0.000031       0.0          0.021982                      0.0   \n",
      "4        0.000041       0.0          0.068468                      0.0   \n",
      "\n",
      "   transaction_attribute_2  transaction_attribute_3  transaction_attribute_4  \\\n",
      "0                      0.0                      0.0                 0.234223   \n",
      "1                      0.0                      0.0                 0.234223   \n",
      "2                      0.0                      0.0                 0.234223   \n",
      "3                      0.0                      0.0                 0.234223   \n",
      "4                      0.0                      0.0                 0.234223   \n",
      "\n",
      "   transaction_attribute_5  transaction_attribute_6  transaction_attribute_7  \\\n",
      "0                      0.0                  0.00965                      0.0   \n",
      "1                      0.0                  0.00965                      0.0   \n",
      "2                      0.0                  0.00965                      0.0   \n",
      "3                      0.0                  0.00965                      0.0   \n",
      "4                      0.0                  0.00965                      0.0   \n",
      "\n",
      "   ...  bureau_enquiry_41  bureau_enquiry_42  bureau_enquiry_43  \\\n",
      "0  ...           0.010101           0.000000           0.010453   \n",
      "1  ...           0.020202           0.033898           0.013937   \n",
      "2  ...           0.037037           0.000000           0.038328   \n",
      "3  ...           0.127946           0.000000           0.132404   \n",
      "4  ...           0.003367           0.000000           0.003484   \n",
      "\n",
      "   bureau_enquiry_44  bureau_enquiry_45  bureau_enquiry_46  bureau_enquiry_47  \\\n",
      "0                0.0           0.000000                0.0                0.0   \n",
      "1                0.0           0.007463                0.0                0.0   \n",
      "2                0.0           0.014925                0.0                0.0   \n",
      "3                0.0           0.044776                0.0                0.0   \n",
      "4                0.0           0.000000                0.0                0.0   \n",
      "\n",
      "   bureau_enquiry_48  bureau_enquiry_49  bureau_enquiry_50  \n",
      "0                0.0           0.000000           0.009804  \n",
      "1                0.0           0.142857           0.029412  \n",
      "2                0.0           0.000000           0.078431  \n",
      "3                0.0           0.000000           0.294118  \n",
      "4                0.0           0.000000           0.009804  \n",
      "\n",
      "[5 rows x 1191 columns]\n"
     ]
    }
   ],
   "source": [
    "from sklearn.preprocessing import MinMaxScaler\n",
    "\n",
    "# Normalize all numeric columns\n",
    "scaler = MinMaxScaler()\n",
    "dev_data_cleaned[numeric_columns] = scaler.fit_transform(dev_data_cleaned[numeric_columns])\n",
    "\n",
    "print(\"\\nSample of Normalized Data:\")\n",
    "print(dev_data_cleaned.head())"
   ]
  },
  {
   "cell_type": "markdown",
   "metadata": {},
   "source": [
    "Model Development"
   ]
  },
  {
   "cell_type": "code",
   "execution_count": 8,
   "metadata": {},
   "outputs": [
    {
     "name": "stdout",
     "output_type": "stream",
     "text": [
      "Training Set: (77444, 1189), (77444,)\n",
      "Testing Set: (19362, 1189), (19362,)\n"
     ]
    }
   ],
   "source": [
    "from sklearn.model_selection import train_test_split\n",
    "\n",
    "# Define the target variable (y) and features (X)\n",
    "X = dev_data_cleaned.drop(columns=['bad_flag', 'account_number'])  # Drop target and primary key\n",
    "y = dev_data_cleaned['bad_flag']\n",
    "\n",
    "# Split the data: 80% training, 20% testing\n",
    "X_train, X_test, y_train, y_test = train_test_split(X, y, test_size=0.2, random_state=42, stratify=y)\n",
    "\n",
    "print(f\"Training Set: {X_train.shape}, {y_train.shape}\")\n",
    "print(f\"Testing Set: {X_test.shape}, {y_test.shape}\")"
   ]
  },
  {
   "cell_type": "code",
   "execution_count": 9,
   "metadata": {},
   "outputs": [
    {
     "name": "stdout",
     "output_type": "stream",
     "text": [
      "Accuracy: 0.9859518644768103\n",
      "AUC-ROC Score: 0.8441689202831604\n",
      "\n",
      "Classification Report:\n",
      "              precision    recall  f1-score   support\n",
      "\n",
      "         0.0       0.99      1.00      0.99     19088\n",
      "         1.0       0.75      0.01      0.02       274\n",
      "\n",
      "    accuracy                           0.99     19362\n",
      "   macro avg       0.87      0.51      0.51     19362\n",
      "weighted avg       0.98      0.99      0.98     19362\n",
      "\n"
     ]
    }
   ],
   "source": [
    "from sklearn.linear_model import LogisticRegression\n",
    "from sklearn.metrics import accuracy_score, roc_auc_score, classification_report, confusion_matrix\n",
    "\n",
    "# Train a logistic regression model\n",
    "model = LogisticRegression(max_iter=1000, random_state=42)\n",
    "model.fit(X_train, y_train)\n",
    "\n",
    "# Make predictions on the test set\n",
    "y_pred = model.predict(X_test)\n",
    "y_pred_proba = model.predict_proba(X_test)[:, 1]  # Probabilities for the positive class\n",
    "\n",
    "# Evaluate the model\n",
    "print(\"Accuracy:\", accuracy_score(y_test, y_pred))\n",
    "print(\"AUC-ROC Score:\", roc_auc_score(y_test, y_pred_proba))\n",
    "print(\"\\nClassification Report:\")\n",
    "print(classification_report(y_test, y_pred))"
   ]
  },
  {
   "cell_type": "markdown",
   "metadata": {},
   "source": [
    "Handle Class Imbalance Using SMOTE(Synthetic Minority Oversampling Technique) this creates samples for the minority class(defaulters) to balance the dataset"
   ]
  },
  {
   "cell_type": "code",
   "execution_count": 10,
   "metadata": {},
   "outputs": [
    {
     "name": "stdout",
     "output_type": "stream",
     "text": [
      "Requirement already satisfied: imbalanced-learn in c:\\users\\syama\\appdata\\local\\programs\\python\\python313\\lib\\site-packages (0.13.0)Note: you may need to restart the kernel to use updated packages.\n",
      "\n",
      "Requirement already satisfied: numpy<3,>=1.24.3 in c:\\users\\syama\\appdata\\local\\programs\\python\\python313\\lib\\site-packages (from imbalanced-learn) (2.1.3)\n",
      "Requirement already satisfied: scipy<2,>=1.10.1 in c:\\users\\syama\\appdata\\local\\programs\\python\\python313\\lib\\site-packages (from imbalanced-learn) (1.14.1)\n",
      "Requirement already satisfied: scikit-learn<2,>=1.3.2 in c:\\users\\syama\\appdata\\local\\programs\\python\\python313\\lib\\site-packages (from imbalanced-learn) (1.5.2)\n",
      "Requirement already satisfied: sklearn-compat<1,>=0.1 in c:\\users\\syama\\appdata\\local\\programs\\python\\python313\\lib\\site-packages (from imbalanced-learn) (0.1.3)\n",
      "Requirement already satisfied: joblib<2,>=1.1.1 in c:\\users\\syama\\appdata\\local\\programs\\python\\python313\\lib\\site-packages (from imbalanced-learn) (1.4.2)\n",
      "Requirement already satisfied: threadpoolctl<4,>=2.0.0 in c:\\users\\syama\\appdata\\local\\programs\\python\\python313\\lib\\site-packages (from imbalanced-learn) (3.5.0)\n"
     ]
    }
   ],
   "source": [
    "pip install imbalanced-learn"
   ]
  },
  {
   "cell_type": "code",
   "execution_count": 11,
   "metadata": {},
   "outputs": [
    {
     "name": "stdout",
     "output_type": "stream",
     "text": [
      "Class Distribution Before SMOTE:\n",
      "bad_flag\n",
      "0.0    76346\n",
      "1.0     1098\n",
      "Name: count, dtype: int64\n",
      "\n",
      "Class Distribution After SMOTE:\n",
      "bad_flag\n",
      "0.0    76346\n",
      "1.0    76346\n",
      "Name: count, dtype: int64\n",
      "\n",
      "Accuracy After SMOTE: 0.7852494577006508\n",
      "AUC-ROC Score After SMOTE: 0.8054578945919322\n",
      "\n",
      "Classification Report After SMOTE:\n",
      "              precision    recall  f1-score   support\n",
      "\n",
      "         0.0       0.99      0.79      0.88     19088\n",
      "         1.0       0.04      0.69      0.08       274\n",
      "\n",
      "    accuracy                           0.79     19362\n",
      "   macro avg       0.52      0.74      0.48     19362\n",
      "weighted avg       0.98      0.79      0.87     19362\n",
      "\n"
     ]
    }
   ],
   "source": [
    "from imblearn.over_sampling import SMOTE\n",
    "from sklearn.model_selection import train_test_split\n",
    "from sklearn.linear_model import LogisticRegression\n",
    "from sklearn.metrics import accuracy_score, roc_auc_score, classification_report, confusion_matrix\n",
    "\n",
    "# Separate features and target\n",
    "X = dev_data_cleaned.drop(columns=['bad_flag', 'account_number'])  # Drop target and primary key\n",
    "y = dev_data_cleaned['bad_flag']\n",
    "\n",
    "# Split into training and testing sets (same as before)\n",
    "X_train, X_test, y_train, y_test = train_test_split(X, y, test_size=0.2, random_state=42, stratify=y)\n",
    "\n",
    "# Apply SMOTE on the training data\n",
    "smote = SMOTE(random_state=42)\n",
    "X_train_smote, y_train_smote = smote.fit_resample(X_train, y_train)\n",
    "\n",
    "# Check the class distribution after SMOTE\n",
    "print(\"Class Distribution Before SMOTE:\")\n",
    "print(y_train.value_counts())\n",
    "\n",
    "print(\"\\nClass Distribution After SMOTE:\")\n",
    "print(pd.Series(y_train_smote).value_counts())\n",
    "\n",
    "# Train a logistic regression model on the balanced data\n",
    "smote_model = LogisticRegression(max_iter=1000, random_state=42)\n",
    "smote_model.fit(X_train_smote, y_train_smote)\n",
    "\n",
    "# Make predictions on the test set\n",
    "y_pred_smote = smote_model.predict(X_test)\n",
    "y_pred_proba_smote = smote_model.predict_proba(X_test)[:, 1]\n",
    "\n",
    "# Evaluate the model\n",
    "print(\"\\nAccuracy After SMOTE:\", accuracy_score(y_test, y_pred_smote))\n",
    "print(\"AUC-ROC Score After SMOTE:\", roc_auc_score(y_test, y_pred_proba_smote))\n",
    "print(\"\\nClassification Report After SMOTE:\")\n",
    "print(classification_report(y_test, y_pred_smote))\n"
   ]
  },
  {
   "cell_type": "code",
   "execution_count": 12,
   "metadata": {},
   "outputs": [
    {
     "name": "stdout",
     "output_type": "stream",
     "text": [
      "Average Precision Score: 0.0652\n"
     ]
    },
    {
     "data": {
      "image/png": "[encoded data removed]",
      "text/plain": [
       "<Figure size 800x600 with 1 Axes>"
      ]
     },
     "metadata": {},
     "output_type": "display_data"
    },
    {
     "name": "stdout",
     "output_type": "stream",
     "text": [
      "\n",
      "Performance at threshold 0.4:\n",
      "Precision: 0.0365, Recall: 0.7628\n",
      "F1-Score: 0.0697\n"
     ]
    }
   ],
   "source": [
    "import numpy as np\n",
    "import matplotlib.pyplot as plt\n",
    "from sklearn.metrics import precision_recall_curve, average_precision_score\n",
    "\n",
    "# Define a function to evaluate the model at different thresholds\n",
    "def evaluate_threshold(y_true, y_probs, threshold):\n",
    "    y_pred = (y_probs >= threshold).astype(int)\n",
    "    return classification_report(y_true, y_pred, output_dict=True)\n",
    "\n",
    "# Get Precision-Recall curve\n",
    "precision, recall, thresholds = precision_recall_curve(y_test, y_pred_proba_smote)\n",
    "\n",
    "# Calculate Average Precision Score\n",
    "avg_precision = average_precision_score(y_test, y_pred_proba_smote)\n",
    "print(f\"Average Precision Score: {avg_precision:.4f}\")\n",
    "\n",
    "# Plot Precision-Recall curve\n",
    "plt.figure(figsize=(8, 6))\n",
    "plt.plot(recall, precision, marker='.', label='Precision-Recall Curve')\n",
    "plt.xlabel('Recall')\n",
    "plt.ylabel('Precision')\n",
    "plt.title('Precision-Recall Curve')\n",
    "plt.show()\n",
    "\n",
    "# Evaluate performance at different thresholds\n",
    "threshold_performance = {}\n",
    "for threshold in np.arange(0.1, 1.0, 0.05):  # Testing thresholds from 0.1 to 0.95\n",
    "    rounded_threshold = round(threshold, 2)  # Round threshold to 2 decimal places\n",
    "    performance = evaluate_threshold(y_test, y_pred_proba_smote, threshold)\n",
    "    threshold_performance[rounded_threshold] = performance\n",
    "\n",
    "# Print performance at the chosen threshold (rounding it to 2 decimals)\n",
    "chosen_threshold = 0.4\n",
    "rounded_chosen_threshold = round(chosen_threshold, 2)\n",
    "\n",
    "print(f\"\\nPerformance at threshold {rounded_chosen_threshold}:\")\n",
    "chosen_performance = threshold_performance[rounded_chosen_threshold]\n",
    "print(f\"Precision: {chosen_performance['1.0']['precision']:.4f}, Recall: {chosen_performance['1.0']['recall']:.4f}\")\n",
    "print(f\"F1-Score: {chosen_performance['1.0']['f1-score']:.4f}\")"
   ]
  },
  {
   "cell_type": "code",
   "execution_count": 13,
   "metadata": {},
   "outputs": [
    {
     "name": "stdout",
     "output_type": "stream",
     "text": [
      "Best Threshold: 0.8500\n",
      "F1-Score at Best Threshold: 0.1288\n",
      "\n",
      "Classification Report at Best Threshold:\n",
      "              precision    recall  f1-score   support\n",
      "\n",
      "         0.0       0.99      0.96      0.97     19088\n",
      "         1.0       0.08      0.28      0.13       274\n",
      "\n",
      "    accuracy                           0.95     19362\n",
      "   macro avg       0.54      0.62      0.55     19362\n",
      "weighted avg       0.98      0.95      0.96     19362\n",
      "\n"
     ]
    }
   ],
   "source": [
    "# Calculate F1-score at different thresholds excluding extreme values\n",
    "thresholds_to_check = np.arange(0.1, 0.9, 0.05)  # Exploring thresholds from 0.1 to 0.9\n",
    "\n",
    "f1_scores = []\n",
    "for threshold in thresholds_to_check:\n",
    "    y_pred = (y_pred_proba_smote >= threshold).astype(int)\n",
    "    precision = np.sum((y_pred == 1) & (y_test == 1)) / np.sum(y_pred == 1) if np.sum(y_pred == 1) > 0 else 0\n",
    "    recall = np.sum((y_pred == 1) & (y_test == 1)) / np.sum(y_test == 1) if np.sum(y_test == 1) > 0 else 0\n",
    "    f1 = 2 * (precision * recall) / (precision + recall) if (precision + recall) > 0 else 0\n",
    "    f1_scores.append(f1)\n",
    "\n",
    "# Find the best threshold based on the maximum F1-score\n",
    "best_threshold_idx = np.argmax(f1_scores)\n",
    "best_threshold = thresholds_to_check[best_threshold_idx]\n",
    "\n",
    "print(f\"Best Threshold: {best_threshold:.4f}\")\n",
    "print(f\"F1-Score at Best Threshold: {f1_scores[best_threshold_idx]:.4f}\")\n",
    "\n",
    "# Evaluate performance at the best threshold\n",
    "y_pred_best = (y_pred_proba_smote >= best_threshold).astype(int)\n",
    "print(\"\\nClassification Report at Best Threshold:\")\n",
    "print(classification_report(y_test, y_pred_best))"
   ]
  },
  {
   "cell_type": "markdown",
   "metadata": {},
   "source": [
    "Key observations:\n",
    "Precision for class 1.0 is very low (0.08), meaning that when the model predicts the positive class, it is often wrong.\n",
    "Recall for class 1.0 is 0.28, meaning the model is correctly identifying some positive instances, but it’s still missing a large number of them.\n",
    "The accuracy is 0.95, which is quite high, but this is largely due to the dominance of class 0.0 in the dataset."
   ]
  },
  {
   "cell_type": "markdown",
   "metadata": {},
   "source": [
    "Model Change to Random Forest"
   ]
  },
  {
   "cell_type": "code",
   "execution_count": 14,
   "metadata": {},
   "outputs": [
    {
     "name": "stdout",
     "output_type": "stream",
     "text": [
      "Accuracy: 0.9857969218055986\n",
      "AUC-ROC Score: 0.7924081740505748\n",
      "\n",
      "Classification Report:\n",
      "              precision    recall  f1-score   support\n",
      "\n",
      "         0.0       0.99      1.00      0.99     19088\n",
      "         1.0       0.00      0.00      0.00       274\n",
      "\n",
      "    accuracy                           0.99     19362\n",
      "   macro avg       0.49      0.50      0.50     19362\n",
      "weighted avg       0.97      0.99      0.98     19362\n",
      "\n"
     ]
    }
   ],
   "source": [
    "from sklearn.ensemble import RandomForestClassifier\n",
    "from imblearn.over_sampling import SMOTE\n",
    "from sklearn.metrics import classification_report, accuracy_score, roc_auc_score\n",
    "\n",
    "# Separate features and target\n",
    "X = dev_data_cleaned.drop(columns=['bad_flag', 'account_number'])  # Drop target and primary key\n",
    "y = dev_data_cleaned['bad_flag']\n",
    "\n",
    "# Split into training and testing sets\n",
    "X_train, X_test, y_train, y_test = train_test_split(X, y, test_size=0.2, random_state=42, stratify=y)\n",
    "\n",
    "# Apply SMOTE on the training data\n",
    "smote = SMOTE(random_state=42)\n",
    "X_train_smote, y_train_smote = smote.fit_resample(X_train, y_train)\n",
    "\n",
    "# Train a Random Forest model on the balanced data\n",
    "rf_model = RandomForestClassifier(random_state=42)\n",
    "rf_model.fit(X_train_smote, y_train_smote)\n",
    "\n",
    "# Make predictions on the test set\n",
    "y_pred_rf = rf_model.predict(X_test)\n",
    "y_pred_proba_rf = rf_model.predict_proba(X_test)[:, 1]\n",
    "\n",
    "# Evaluate the model\n",
    "print(\"Accuracy:\", accuracy_score(y_test, y_pred_rf))\n",
    "print(\"AUC-ROC Score:\", roc_auc_score(y_test, y_pred_proba_rf))\n",
    "print(\"\\nClassification Report:\")\n",
    "print(classification_report(y_test, y_pred_rf))"
   ]
  },
  {
   "cell_type": "markdown",
   "metadata": {},
   "source": [
    "Random Forest with Class Weights"
   ]
  },
  {
   "cell_type": "code",
   "execution_count": 15,
   "metadata": {},
   "outputs": [
    {
     "name": "stdout",
     "output_type": "stream",
     "text": [
      "Accuracy: 0.9858485693626692\n",
      "AUC-ROC Score: 0.765449382345923\n",
      "\n",
      "Classification Report:\n",
      "              precision    recall  f1-score   support\n",
      "\n",
      "         0.0       0.99      1.00      0.99     19088\n",
      "         1.0       0.00      0.00      0.00       274\n",
      "\n",
      "    accuracy                           0.99     19362\n",
      "   macro avg       0.49      0.50      0.50     19362\n",
      "weighted avg       0.97      0.99      0.98     19362\n",
      "\n"
     ]
    },
    {
     "name": "stderr",
     "output_type": "stream",
     "text": [
      "c:\\Users\\syama\\AppData\\Local\\Programs\\Python\\Python313\\Lib\\site-packages\\sklearn\\metrics\\_classification.py:1531: UndefinedMetricWarning: Precision is ill-defined and being set to 0.0 in labels with no predicted samples. Use `zero_division` parameter to control this behavior.\n",
      "  _warn_prf(average, modifier, f\"{metric.capitalize()} is\", len(result))\n",
      "c:\\Users\\syama\\AppData\\Local\\Programs\\Python\\Python313\\Lib\\site-packages\\sklearn\\metrics\\_classification.py:1531: UndefinedMetricWarning: Precision is ill-defined and being set to 0.0 in labels with no predicted samples. Use `zero_division` parameter to control this behavior.\n",
      "  _warn_prf(average, modifier, f\"{metric.capitalize()} is\", len(result))\n",
      "c:\\Users\\syama\\AppData\\Local\\Programs\\Python\\Python313\\Lib\\site-packages\\sklearn\\metrics\\_classification.py:1531: UndefinedMetricWarning: Precision is ill-defined and being set to 0.0 in labels with no predicted samples. Use `zero_division` parameter to control this behavior.\n",
      "  _warn_prf(average, modifier, f\"{metric.capitalize()} is\", len(result))\n"
     ]
    }
   ],
   "source": [
    "from sklearn.ensemble import RandomForestClassifier\n",
    "from sklearn.metrics import classification_report, accuracy_score, roc_auc_score\n",
    "\n",
    "# Train Random Forest with class weights\n",
    "rf_model_weighted = RandomForestClassifier(random_state=42, class_weight='balanced')\n",
    "rf_model_weighted.fit(X_train, y_train)  # Use original data without SMOTE\n",
    "\n",
    "# Make predictions\n",
    "y_pred_rf_weighted = rf_model_weighted.predict(X_test)\n",
    "y_pred_proba_rf_weighted = rf_model_weighted.predict_proba(X_test)[:, 1]\n",
    "\n",
    "# Evaluate the model\n",
    "print(\"Accuracy:\", accuracy_score(y_test, y_pred_rf_weighted))\n",
    "print(\"AUC-ROC Score:\", roc_auc_score(y_test, y_pred_proba_rf_weighted))\n",
    "print(\"\\nClassification Report:\")\n",
    "print(classification_report(y_test, y_pred_rf_weighted))"
   ]
  },
  {
   "cell_type": "markdown",
   "metadata": {},
   "source": [
    "Switch TO XGBoost: designed for better handling of class imbalance and feature importance"
   ]
  },
  {
   "cell_type": "code",
   "execution_count": 16,
   "metadata": {},
   "outputs": [
    {
     "name": "stdout",
     "output_type": "stream",
     "text": [
      "Requirement already satisfied: xgboost in c:\\users\\syama\\appdata\\local\\programs\\python\\python313\\lib\\site-packages (2.1.3)\n",
      "Requirement already satisfied: numpy in c:\\users\\syama\\appdata\\local\\programs\\python\\python313\\lib\\site-packages (from xgboost) (2.1.3)\n",
      "Requirement already satisfied: scipy in c:\\users\\syama\\appdata\\local\\programs\\python\\python313\\lib\\site-packages (from xgboost) (1.14.1)\n",
      "Note: you may need to restart the kernel to use updated packages.\n"
     ]
    }
   ],
   "source": [
    "pip install xgboost"
   ]
  },
  {
   "cell_type": "code",
   "execution_count": 17,
   "metadata": {},
   "outputs": [
    {
     "name": "stdout",
     "output_type": "stream",
     "text": [
      "Accuracy: 0.9710257204834212\n",
      "AUC-ROC Score: 0.7791414409481097\n",
      "\n",
      "Classification Report:\n",
      "              precision    recall  f1-score   support\n",
      "\n",
      "         0.0       0.99      0.98      0.99     19088\n",
      "         1.0       0.10      0.13      0.11       274\n",
      "\n",
      "    accuracy                           0.97     19362\n",
      "   macro avg       0.54      0.56      0.55     19362\n",
      "weighted avg       0.97      0.97      0.97     19362\n",
      "\n"
     ]
    }
   ],
   "source": [
    "from xgboost import XGBClassifier\n",
    "from sklearn.metrics import classification_report, accuracy_score, roc_auc_score\n",
    "\n",
    "# Define class weights\n",
    "class_weights = {0: 1, 1: len(y) / (2 * y.value_counts()[1])}  # Adjust weight for minority class\n",
    "\n",
    "# Train an XGBoost model\n",
    "xgb_model = XGBClassifier(random_state=42, scale_pos_weight=class_weights[1])\n",
    "xgb_model.fit(X_train, y_train)\n",
    "\n",
    "# Make predictions\n",
    "y_pred_xgb = xgb_model.predict(X_test)\n",
    "y_pred_proba_xgb = xgb_model.predict_proba(X_test)[:, 1]\n",
    "\n",
    "# Evaluate the model\n",
    "print(\"Accuracy:\", accuracy_score(y_test, y_pred_xgb))\n",
    "print(\"AUC-ROC Score:\", roc_auc_score(y_test, y_pred_proba_xgb))\n",
    "print(\"\\nClassification Report:\")\n",
    "print(classification_report(y_test, y_pred_xgb))"
   ]
  },
  {
   "cell_type": "code",
   "execution_count": 19,
   "metadata": {},
   "outputs": [
    {
     "name": "stdout",
     "output_type": "stream",
     "text": [
      "Fitting 3 folds for each of 10 candidates, totalling 30 fits\n",
      "[CV] END learning_rate=0.1, max_depth=7, n_estimators=300, scale_pos_weight=35.279154518950435, subsample=0.8; total time=  40.3s\n",
      "[CV] END learning_rate=0.1, max_depth=7, n_estimators=300, scale_pos_weight=35.279154518950435, subsample=0.8; total time=  37.6s\n",
      "[CV] END learning_rate=0.1, max_depth=7, n_estimators=300, scale_pos_weight=35.279154518950435, subsample=0.8; total time=  37.3s\n",
      "[CV] END learning_rate=0.2, max_depth=3, n_estimators=300, scale_pos_weight=35.279154518950435, subsample=1.0; total time=  19.2s\n",
      "[CV] END learning_rate=0.2, max_depth=3, n_estimators=300, scale_pos_weight=35.279154518950435, subsample=1.0; total time=  20.8s\n",
      "[CV] END learning_rate=0.2, max_depth=3, n_estimators=300, scale_pos_weight=35.279154518950435, subsample=1.0; total time=  18.5s\n",
      "[CV] END learning_rate=0.01, max_depth=3, n_estimators=200, scale_pos_weight=35.279154518950435, subsample=1.0; total time=  17.4s\n",
      "[CV] END learning_rate=0.01, max_depth=3, n_estimators=200, scale_pos_weight=35.279154518950435, subsample=1.0; total time=  17.9s\n",
      "[CV] END learning_rate=0.01, max_depth=3, n_estimators=200, scale_pos_weight=35.279154518950435, subsample=1.0; total time=  18.0s\n",
      "[CV] END learning_rate=0.2, max_depth=7, n_estimators=300, scale_pos_weight=1, subsample=1.0; total time=  35.8s\n",
      "[CV] END learning_rate=0.2, max_depth=7, n_estimators=300, scale_pos_weight=1, subsample=1.0; total time=  38.6s\n",
      "[CV] END learning_rate=0.2, max_depth=7, n_estimators=300, scale_pos_weight=1, subsample=1.0; total time=  39.7s\n",
      "[CV] END learning_rate=0.1, max_depth=7, n_estimators=200, scale_pos_weight=1, subsample=1.0; total time=  27.8s\n",
      "[CV] END learning_rate=0.1, max_depth=7, n_estimators=200, scale_pos_weight=1, subsample=1.0; total time=  26.8s\n",
      "[CV] END learning_rate=0.1, max_depth=7, n_estimators=200, scale_pos_weight=1, subsample=1.0; total time=  26.0s\n",
      "[CV] END learning_rate=0.2, max_depth=5, n_estimators=200, scale_pos_weight=35.279154518950435, subsample=1.0; total time=  21.6s\n",
      "[CV] END learning_rate=0.2, max_depth=5, n_estimators=200, scale_pos_weight=35.279154518950435, subsample=1.0; total time=  21.5s\n",
      "[CV] END learning_rate=0.2, max_depth=5, n_estimators=200, scale_pos_weight=35.279154518950435, subsample=1.0; total time=  21.6s\n",
      "[CV] END learning_rate=0.01, max_depth=5, n_estimators=100, scale_pos_weight=1, subsample=1.0; total time=  12.6s\n",
      "[CV] END learning_rate=0.01, max_depth=5, n_estimators=100, scale_pos_weight=1, subsample=1.0; total time=  13.2s\n",
      "[CV] END learning_rate=0.01, max_depth=5, n_estimators=100, scale_pos_weight=1, subsample=1.0; total time=  12.5s\n",
      "[CV] END learning_rate=0.01, max_depth=3, n_estimators=100, scale_pos_weight=1, subsample=1.0; total time=  11.3s\n",
      "[CV] END learning_rate=0.01, max_depth=3, n_estimators=100, scale_pos_weight=1, subsample=1.0; total time=  10.3s\n",
      "[CV] END learning_rate=0.01, max_depth=3, n_estimators=100, scale_pos_weight=1, subsample=1.0; total time=   9.8s\n",
      "[CV] END learning_rate=0.1, max_depth=5, n_estimators=100, scale_pos_weight=35.279154518950435, subsample=1.0; total time=  12.7s\n",
      "[CV] END learning_rate=0.1, max_depth=5, n_estimators=100, scale_pos_weight=35.279154518950435, subsample=1.0; total time=  12.5s\n",
      "[CV] END learning_rate=0.1, max_depth=5, n_estimators=100, scale_pos_weight=35.279154518950435, subsample=1.0; total time=  11.7s\n",
      "[CV] END learning_rate=0.2, max_depth=3, n_estimators=200, scale_pos_weight=1, subsample=0.8; total time=  17.1s\n",
      "[CV] END learning_rate=0.2, max_depth=3, n_estimators=200, scale_pos_weight=1, subsample=0.8; total time=  17.8s\n",
      "[CV] END learning_rate=0.2, max_depth=3, n_estimators=200, scale_pos_weight=1, subsample=0.8; total time=  18.0s\n",
      "Best Parameters: {'subsample': 1.0, 'scale_pos_weight': np.float64(35.279154518950435), 'n_estimators': 200, 'max_depth': 3, 'learning_rate': 0.01}\n"
     ]
    }
   ],
   "source": [
    "from sklearn.model_selection import RandomizedSearchCV\n",
    "\n",
    "random_search = RandomizedSearchCV(\n",
    "    estimator=XGBClassifier(random_state=42),\n",
    "    param_distributions=param_grid,\n",
    "    scoring='roc_auc',\n",
    "    cv=3,\n",
    "    n_iter=10,  # Number of random combinations to try\n",
    "    verbose=2,\n",
    "    n_jobs=1  # Disable parallel processing\n",
    ")\n",
    "\n",
    "random_search.fit(X_train, y_train)\n",
    "print(\"Best Parameters:\", random_search.best_params_)"
   ]
  },
  {
   "cell_type": "code",
   "execution_count": 20,
   "metadata": {},
   "outputs": [
    {
     "name": "stdout",
     "output_type": "stream",
     "text": [
      "Accuracy: 0.8946906311331474\n",
      "AUC-ROC Score: 0.8234642011490385\n",
      "\n",
      "Classification Report:\n",
      "              precision    recall  f1-score   support\n",
      "\n",
      "         0.0       0.99      0.90      0.94     19088\n",
      "         1.0       0.06      0.45      0.11       274\n",
      "\n",
      "    accuracy                           0.89     19362\n",
      "   macro avg       0.53      0.67      0.53     19362\n",
      "weighted avg       0.98      0.89      0.93     19362\n",
      "\n"
     ]
    }
   ],
   "source": [
    "from xgboost import XGBClassifier\n",
    "from sklearn.metrics import classification_report, accuracy_score, roc_auc_score\n",
    "\n",
    "# Train the XGBoost model with the best parameters\n",
    "best_xgb_model = XGBClassifier(\n",
    "    subsample=1.0,\n",
    "    scale_pos_weight=35.28,\n",
    "    n_estimators=200,\n",
    "    max_depth=3,\n",
    "    learning_rate=0.01,\n",
    "    random_state=42\n",
    ")\n",
    "best_xgb_model.fit(X_train, y_train)\n",
    "\n",
    "# Make predictions on the test set\n",
    "y_pred_best = best_xgb_model.predict(X_test)\n",
    "y_pred_proba_best = best_xgb_model.predict_proba(X_test)[:, 1]\n",
    "\n",
    "# Evaluate the model\n",
    "print(\"Accuracy:\", accuracy_score(y_test, y_pred_best))\n",
    "print(\"AUC-ROC Score:\", roc_auc_score(y_test, y_pred_proba_best))\n",
    "print(\"\\nClassification Report:\")\n",
    "print(classification_report(y_test, y_pred_best))\n"
   ]
  },
  {
   "cell_type": "code",
   "execution_count": 23,
   "metadata": {},
   "outputs": [
    {
     "name": "stdout",
     "output_type": "stream",
     "text": [
      "\n",
      "Classification Report at Threshold 0.4:\n",
      "              precision    recall  f1-score   support\n",
      "\n",
      "         0.0       0.99      0.79      0.88     19088\n",
      "         1.0       0.05      0.70      0.09       274\n",
      "\n",
      "    accuracy                           0.79     19362\n",
      "   macro avg       0.52      0.75      0.49     19362\n",
      "weighted avg       0.98      0.79      0.87     19362\n",
      "\n"
     ]
    }
   ],
   "source": [
    "threshold = 0.4  # Try a higher threshold\n",
    "y_pred_adjusted_4 = (y_pred_proba_best >= threshold).astype(int)\n",
    "\n",
    "# Evaluate with the new threshold\n",
    "print(\"\\nClassification Report at Threshold 0.4:\")\n",
    "print(classification_report(y_test, y_pred_adjusted_4))\n"
   ]
  },
  {
   "cell_type": "code",
   "execution_count": 30,
   "metadata": {},
   "outputs": [],
   "source": [
    "# Ensure the columns in validation data match the training data (excluding account_number)\n",
    "X_val = validation_data.drop(columns=['account_number'])\n",
    "\n",
    "# Align validation data columns with training data columns (only include common columns)\n",
    "X_val = X_val[X_train.columns]  # Ensure that X_val contains the same features as X_train\n"
   ]
  },
  {
   "cell_type": "code",
   "execution_count": 31,
   "metadata": {},
   "outputs": [
    {
     "name": "stdout",
     "output_type": "stream",
     "text": [
      "   account_number  predicted_probability\n",
      "0          100001               0.489511\n",
      "1          100002               0.314037\n",
      "2          100003               0.351426\n",
      "3          100004               0.187156\n",
      "4          100005               0.357743\n"
     ]
    },
    {
     "name": "stderr",
     "output_type": "stream",
     "text": [
      "C:\\Users\\syama\\AppData\\Local\\Temp\\ipykernel_18960\\3767070715.py:6: SettingWithCopyWarning: \n",
      "A value is trying to be set on a copy of a slice from a DataFrame.\n",
      "Try using .loc[row_indexer,col_indexer] = value instead\n",
      "\n",
      "See the caveats in the documentation: https://pandas.pydata.org/pandas-docs/stable/user_guide/indexing.html#returning-a-view-versus-a-copy\n",
      "  validation_results['predicted_probability'] = y_pred_proba_val\n"
     ]
    }
   ],
   "source": [
    "# Get predicted probabilities for class 1 (defaulters) using the trained model\n",
    "y_pred_proba_val = best_xgb_model.predict_proba(X_val)[:, 1]\n",
    "\n",
    "# Create a DataFrame with account_number and predicted probabilities\n",
    "validation_results = validation_data[['account_number']]\n",
    "validation_results['predicted_probability'] = y_pred_proba_val\n",
    "\n",
    "# Save the results to a CSV file\n",
    "validation_results.to_csv('validation_predictions.csv', index=False)\n",
    "\n",
    "# Output the first few rows to confirm\n",
    "print(validation_results.head())\n"
   ]
  },
  {
   "cell_type": "code",
   "execution_count": 32,
   "metadata": {},
   "outputs": [
    {
     "name": "stderr",
     "output_type": "stream",
     "text": [
      "C:\\Users\\syama\\AppData\\Local\\Temp\\ipykernel_18960\\502579047.py:1: SettingWithCopyWarning: \n",
      "A value is trying to be set on a copy of a slice from a DataFrame\n",
      "\n",
      "See the caveats in the documentation: https://pandas.pydata.org/pandas-docs/stable/user_guide/indexing.html#returning-a-view-versus-a-copy\n",
      "  validation_results.sort_values(by='predicted_probability', ascending=False, inplace=True)\n"
     ]
    }
   ],
   "source": [
    "validation_results.sort_values(by='predicted_probability', ascending=False, inplace=True)\n",
    "validation_results.to_csv('sorted_validation_predictions.csv', index=False)"
   ]
  }
 ],
 "metadata": {
  "kernelspec": {
   "display_name": "Python 3",
   "language": "python",
   "name": "python3"
  },
  "language_info": {
   "codemirror_mode": {
    "name": "ipython",
    "version": 3
   },
   "file_extension": ".py",
   "mimetype": "text/x-python",
   "name": "python",
   "nbconvert_exporter": "python",
   "pygments_lexer": "ipython3",
   "version": "3.13.0"
  }
 },
 "nbformat": 4,
 "nbformat_minor": 2
}
